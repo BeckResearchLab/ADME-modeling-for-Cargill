{
  "nbformat": 4,
  "nbformat_minor": 0,
  "metadata": {
    "colab": {
      "name": "cheminformatics-predicting-solubility.ipynb",
      "provenance": [],
      "collapsed_sections": []
    },
    "kernelspec": {
      "name": "python3",
      "display_name": "Python 3"
    }
  },
  "cells": [
    {
      "cell_type": "markdown",
      "metadata": {
        "id": "OQi3X7TNUl5Y"
      },
      "source": [
        "# **Cheminformatics in Python: Predicting Solubility of Molecules | End-to-End Data Science Project** \n",
        "\n",
        "Chanin Nantasenamat\n",
        "\n",
        "<i>[Data Professor YouTube channel](http://youtube.com/dataprofessor), http://youtube.com/dataprofessor </i>\n",
        "\n",
        "In this Jupyter notebook, we will dive into the world of Cheminformatics which lies at the interface of Informatics and Chemistry. We will be reproducing a research article (by John S. Delaney$^1$) by applying Linear Regression to predict the solubility of molecules (i.e. solubility of drugs is an important physicochemical property in Drug discovery, design and development).\n",
        "\n",
        "This idea for this notebook was inspired by the excellent blog post by Pat Walters$^2$ where he reproduced the linear regression model with similar degree of performance as that of Delaney. This example is also briefly described in the book ***Deep Learning for the Life Sciences: Applying Deep Learning to Genomics, Microscopy, Drug Discovery, and More***.$^3$"
      ]
    },
    {
      "cell_type": "markdown",
      "metadata": {
        "id": "AQW_Ts66R4Ms"
      },
      "source": [
        "## **1. Install rdkit**"
      ]
    },
    {
      "cell_type": "code",
      "metadata": {
        "id": "-jNwdYoBR8ea",
        "colab": {
          "base_uri": "https://localhost:8080/"
        },
        "outputId": "0eb4c644-13e2-459c-f953-71e17377d065"
      },
      "source": [
        "! wget https://repo.anaconda.com/miniconda/Miniconda3-py37_4.8.2-Linux-x86_64.sh\n",
        "! chmod +x Miniconda3-py37_4.8.2-Linux-x86_64.sh\n",
        "! bash ./Miniconda3-py37_4.8.2-Linux-x86_64.sh -b -f -p /usr/local\n",
        "! conda install -c rdkit rdkit -y\n",
        "import sys\n",
        "sys.path.append('/usr/local/lib/python3.7/site-packages/')"
      ],
      "execution_count": 1,
      "outputs": [
        {
          "output_type": "stream",
          "text": [
            "--2021-04-21 15:07:39--  https://repo.anaconda.com/miniconda/Miniconda3-py37_4.8.2-Linux-x86_64.sh\n",
            "Resolving repo.anaconda.com (repo.anaconda.com)... 104.16.131.3, 104.16.130.3, 2606:4700::6810:8203, ...\n",
            "Connecting to repo.anaconda.com (repo.anaconda.com)|104.16.131.3|:443... connected.\n",
            "HTTP request sent, awaiting response... 200 OK\n",
            "Length: 85055499 (81M) [application/x-sh]\n",
            "Saving to: ‘Miniconda3-py37_4.8.2-Linux-x86_64.sh’\n",
            "\n",
            "Miniconda3-py37_4.8 100%[===================>]  81.12M   177MB/s    in 0.5s    \n",
            "\n",
            "2021-04-21 15:07:40 (177 MB/s) - ‘Miniconda3-py37_4.8.2-Linux-x86_64.sh’ saved [85055499/85055499]\n",
            "\n",
            "PREFIX=/usr/local\n",
            "Unpacking payload ...\n",
            "Collecting package metadata (current_repodata.json): - \b\b\\ \b\b| \b\bdone\n",
            "Solving environment: - \b\bdone\n",
            "\n",
            "## Package Plan ##\n",
            "\n",
            "  environment location: /usr/local\n",
            "\n",
            "  added / updated specs:\n",
            "    - _libgcc_mutex==0.1=main\n",
            "    - asn1crypto==1.3.0=py37_0\n",
            "    - ca-certificates==2020.1.1=0\n",
            "    - certifi==2019.11.28=py37_0\n",
            "    - cffi==1.14.0=py37h2e261b9_0\n",
            "    - chardet==3.0.4=py37_1003\n",
            "    - conda-package-handling==1.6.0=py37h7b6447c_0\n",
            "    - conda==4.8.2=py37_0\n",
            "    - cryptography==2.8=py37h1ba5d50_0\n",
            "    - idna==2.8=py37_0\n",
            "    - ld_impl_linux-64==2.33.1=h53a641e_7\n",
            "    - libedit==3.1.20181209=hc058e9b_0\n",
            "    - libffi==3.2.1=hd88cf55_4\n",
            "    - libgcc-ng==9.1.0=hdf63c60_0\n",
            "    - libstdcxx-ng==9.1.0=hdf63c60_0\n",
            "    - ncurses==6.2=he6710b0_0\n",
            "    - openssl==1.1.1d=h7b6447c_4\n",
            "    - pip==20.0.2=py37_1\n",
            "    - pycosat==0.6.3=py37h7b6447c_0\n",
            "    - pycparser==2.19=py37_0\n",
            "    - pyopenssl==19.1.0=py37_0\n",
            "    - pysocks==1.7.1=py37_0\n",
            "    - python==3.7.6=h0371630_2\n",
            "    - readline==7.0=h7b6447c_5\n",
            "    - requests==2.22.0=py37_1\n",
            "    - ruamel_yaml==0.15.87=py37h7b6447c_0\n",
            "    - setuptools==45.2.0=py37_0\n",
            "    - six==1.14.0=py37_0\n",
            "    - sqlite==3.31.1=h7b6447c_0\n",
            "    - tk==8.6.8=hbc83047_0\n",
            "    - tqdm==4.42.1=py_0\n",
            "    - urllib3==1.25.8=py37_0\n",
            "    - wheel==0.34.2=py37_0\n",
            "    - xz==5.2.4=h14c3975_4\n",
            "    - yaml==0.1.7=had09818_2\n",
            "    - zlib==1.2.11=h7b6447c_3\n",
            "\n",
            "\n",
            "The following NEW packages will be INSTALLED:\n",
            "\n",
            "  _libgcc_mutex      pkgs/main/linux-64::_libgcc_mutex-0.1-main\n",
            "  asn1crypto         pkgs/main/linux-64::asn1crypto-1.3.0-py37_0\n",
            "  ca-certificates    pkgs/main/linux-64::ca-certificates-2020.1.1-0\n",
            "  certifi            pkgs/main/linux-64::certifi-2019.11.28-py37_0\n",
            "  cffi               pkgs/main/linux-64::cffi-1.14.0-py37h2e261b9_0\n",
            "  chardet            pkgs/main/linux-64::chardet-3.0.4-py37_1003\n",
            "  conda              pkgs/main/linux-64::conda-4.8.2-py37_0\n",
            "  conda-package-han~ pkgs/main/linux-64::conda-package-handling-1.6.0-py37h7b6447c_0\n",
            "  cryptography       pkgs/main/linux-64::cryptography-2.8-py37h1ba5d50_0\n",
            "  idna               pkgs/main/linux-64::idna-2.8-py37_0\n",
            "  ld_impl_linux-64   pkgs/main/linux-64::ld_impl_linux-64-2.33.1-h53a641e_7\n",
            "  libedit            pkgs/main/linux-64::libedit-3.1.20181209-hc058e9b_0\n",
            "  libffi             pkgs/main/linux-64::libffi-3.2.1-hd88cf55_4\n",
            "  libgcc-ng          pkgs/main/linux-64::libgcc-ng-9.1.0-hdf63c60_0\n",
            "  libstdcxx-ng       pkgs/main/linux-64::libstdcxx-ng-9.1.0-hdf63c60_0\n",
            "  ncurses            pkgs/main/linux-64::ncurses-6.2-he6710b0_0\n",
            "  openssl            pkgs/main/linux-64::openssl-1.1.1d-h7b6447c_4\n",
            "  pip                pkgs/main/linux-64::pip-20.0.2-py37_1\n",
            "  pycosat            pkgs/main/linux-64::pycosat-0.6.3-py37h7b6447c_0\n",
            "  pycparser          pkgs/main/linux-64::pycparser-2.19-py37_0\n",
            "  pyopenssl          pkgs/main/linux-64::pyopenssl-19.1.0-py37_0\n",
            "  pysocks            pkgs/main/linux-64::pysocks-1.7.1-py37_0\n",
            "  python             pkgs/main/linux-64::python-3.7.6-h0371630_2\n",
            "  readline           pkgs/main/linux-64::readline-7.0-h7b6447c_5\n",
            "  requests           pkgs/main/linux-64::requests-2.22.0-py37_1\n",
            "  ruamel_yaml        pkgs/main/linux-64::ruamel_yaml-0.15.87-py37h7b6447c_0\n",
            "  setuptools         pkgs/main/linux-64::setuptools-45.2.0-py37_0\n",
            "  six                pkgs/main/linux-64::six-1.14.0-py37_0\n",
            "  sqlite             pkgs/main/linux-64::sqlite-3.31.1-h7b6447c_0\n",
            "  tk                 pkgs/main/linux-64::tk-8.6.8-hbc83047_0\n",
            "  tqdm               pkgs/main/noarch::tqdm-4.42.1-py_0\n",
            "  urllib3            pkgs/main/linux-64::urllib3-1.25.8-py37_0\n",
            "  wheel              pkgs/main/linux-64::wheel-0.34.2-py37_0\n",
            "  xz                 pkgs/main/linux-64::xz-5.2.4-h14c3975_4\n",
            "  yaml               pkgs/main/linux-64::yaml-0.1.7-had09818_2\n",
            "  zlib               pkgs/main/linux-64::zlib-1.2.11-h7b6447c_3\n",
            "\n",
            "\n",
            "Preparing transaction: | \b\b/ \b\b- \b\b\\ \b\bdone\n",
            "Executing transaction: / \b\b- \b\b\\ \b\b| \b\b/ \b\b- \b\b\\ \b\b| \b\b/ \b\b- \b\b\\ \b\b| \b\b/ \b\b- \b\b\\ \b\b| \b\bdone\n",
            "installation finished.\n",
            "WARNING:\n",
            "    You currently have a PYTHONPATH environment variable set. This may cause\n",
            "    unexpected behavior when running the Python interpreter in Miniconda3.\n",
            "    For best results, please verify that your PYTHONPATH only points to\n",
            "    directories of packages that are compatible with the Python interpreter\n",
            "    in Miniconda3: /usr/local\n",
            "Collecting package metadata (current_repodata.json): - \b\b\\ \b\b| \b\b/ \b\b- \b\b\\ \b\b| \b\b/ \b\b- \b\b\\ \b\b| \b\b/ \b\b- \b\b\\ \b\b| \b\b/ \b\b- \b\b\\ \b\b| \b\bdone\n",
            "Solving environment: - \b\b\\ \b\b| \b\b/ \b\b- \b\b\\ \b\b| \b\b/ \b\b- \b\b\\ \b\b| \b\b/ \b\bdone\n",
            "\n",
            "## Package Plan ##\n",
            "\n",
            "  environment location: /usr/local\n",
            "\n",
            "  added / updated specs:\n",
            "    - rdkit\n",
            "\n",
            "\n",
            "The following packages will be downloaded:\n",
            "\n",
            "    package                    |            build\n",
            "    ---------------------------|-----------------\n",
            "    blas-1.0                   |              mkl           6 KB\n",
            "    bzip2-1.0.8                |       h7b6447c_0          78 KB\n",
            "    ca-certificates-2021.4.13  |       h06a4308_1         114 KB\n",
            "    cairo-1.16.0               |       hf32fb01_1         1.0 MB\n",
            "    certifi-2020.12.5          |   py37h06a4308_0         141 KB\n",
            "    conda-4.10.1               |   py37h06a4308_1         2.9 MB\n",
            "    fontconfig-2.13.1          |       h6c09931_0         250 KB\n",
            "    freetype-2.10.4            |       h5ab3b9f_0         596 KB\n",
            "    glib-2.68.1                |       h36276a3_0         3.0 MB\n",
            "    icu-58.2                   |       he6710b0_3        10.5 MB\n",
            "    intel-openmp-2020.2        |              254         786 KB\n",
            "    jpeg-9b                    |       h024ee3a_2         214 KB\n",
            "    lcms2-2.12                 |       h3be6417_0         312 KB\n",
            "    libboost-1.73.0            |      h3ff78a5_11        13.9 MB\n",
            "    libffi-3.3                 |       he6710b0_2          50 KB\n",
            "    libpng-1.6.37              |       hbc83047_0         278 KB\n",
            "    libtiff-4.2.0              |       h85742a9_0         502 KB\n",
            "    libuuid-1.0.3              |       h1bed415_2          15 KB\n",
            "    libwebp-base-1.2.0         |       h27cfd23_0         437 KB\n",
            "    libxcb-1.14                |       h7b6447c_0         505 KB\n",
            "    libxml2-2.9.10             |       hb55368b_3         1.2 MB\n",
            "    lz4-c-1.9.3                |       h2531618_0         186 KB\n",
            "    mkl-2020.2                 |              256       138.3 MB\n",
            "    mkl-service-2.3.0          |   py37he8ac12f_0          52 KB\n",
            "    mkl_fft-1.3.0              |   py37h54f3939_0         167 KB\n",
            "    mkl_random-1.1.1           |   py37h0573a6f_0         322 KB\n",
            "    numpy-1.19.2               |   py37h54aff64_0          22 KB\n",
            "    numpy-base-1.19.2          |   py37hfa32c7d_0         4.1 MB\n",
            "    olefile-0.46               |           py37_0          50 KB\n",
            "    openssl-1.1.1k             |       h27cfd23_0         2.5 MB\n",
            "    pandas-1.2.4               |   py37h2531618_0         8.5 MB\n",
            "    pcre-8.44                  |       he6710b0_0         212 KB\n",
            "    pillow-8.2.0               |   py37he98fc37_0         622 KB\n",
            "    pixman-0.40.0              |       h7b6447c_0         370 KB\n",
            "    py-boost-1.73.0            |  py37ha9443f7_11         204 KB\n",
            "    python-dateutil-2.8.1      |     pyhd3eb1b0_0         221 KB\n",
            "    pytz-2021.1                |     pyhd3eb1b0_0         181 KB\n",
            "    rdkit-2020.09.1.0          |   py37hd50e099_1        25.8 MB  rdkit\n",
            "    xz-5.2.5                   |       h7b6447c_0         341 KB\n",
            "    zstd-1.4.5                 |       h9ceee32_0         619 KB\n",
            "    ------------------------------------------------------------\n",
            "                                           Total:       219.5 MB\n",
            "\n",
            "The following NEW packages will be INSTALLED:\n",
            "\n",
            "  blas               pkgs/main/linux-64::blas-1.0-mkl\n",
            "  bzip2              pkgs/main/linux-64::bzip2-1.0.8-h7b6447c_0\n",
            "  cairo              pkgs/main/linux-64::cairo-1.16.0-hf32fb01_1\n",
            "  fontconfig         pkgs/main/linux-64::fontconfig-2.13.1-h6c09931_0\n",
            "  freetype           pkgs/main/linux-64::freetype-2.10.4-h5ab3b9f_0\n",
            "  glib               pkgs/main/linux-64::glib-2.68.1-h36276a3_0\n",
            "  icu                pkgs/main/linux-64::icu-58.2-he6710b0_3\n",
            "  intel-openmp       pkgs/main/linux-64::intel-openmp-2020.2-254\n",
            "  jpeg               pkgs/main/linux-64::jpeg-9b-h024ee3a_2\n",
            "  lcms2              pkgs/main/linux-64::lcms2-2.12-h3be6417_0\n",
            "  libboost           pkgs/main/linux-64::libboost-1.73.0-h3ff78a5_11\n",
            "  libpng             pkgs/main/linux-64::libpng-1.6.37-hbc83047_0\n",
            "  libtiff            pkgs/main/linux-64::libtiff-4.2.0-h85742a9_0\n",
            "  libuuid            pkgs/main/linux-64::libuuid-1.0.3-h1bed415_2\n",
            "  libwebp-base       pkgs/main/linux-64::libwebp-base-1.2.0-h27cfd23_0\n",
            "  libxcb             pkgs/main/linux-64::libxcb-1.14-h7b6447c_0\n",
            "  libxml2            pkgs/main/linux-64::libxml2-2.9.10-hb55368b_3\n",
            "  lz4-c              pkgs/main/linux-64::lz4-c-1.9.3-h2531618_0\n",
            "  mkl                pkgs/main/linux-64::mkl-2020.2-256\n",
            "  mkl-service        pkgs/main/linux-64::mkl-service-2.3.0-py37he8ac12f_0\n",
            "  mkl_fft            pkgs/main/linux-64::mkl_fft-1.3.0-py37h54f3939_0\n",
            "  mkl_random         pkgs/main/linux-64::mkl_random-1.1.1-py37h0573a6f_0\n",
            "  numpy              pkgs/main/linux-64::numpy-1.19.2-py37h54aff64_0\n",
            "  numpy-base         pkgs/main/linux-64::numpy-base-1.19.2-py37hfa32c7d_0\n",
            "  olefile            pkgs/main/linux-64::olefile-0.46-py37_0\n",
            "  pandas             pkgs/main/linux-64::pandas-1.2.4-py37h2531618_0\n",
            "  pcre               pkgs/main/linux-64::pcre-8.44-he6710b0_0\n",
            "  pillow             pkgs/main/linux-64::pillow-8.2.0-py37he98fc37_0\n",
            "  pixman             pkgs/main/linux-64::pixman-0.40.0-h7b6447c_0\n",
            "  py-boost           pkgs/main/linux-64::py-boost-1.73.0-py37ha9443f7_11\n",
            "  python-dateutil    pkgs/main/noarch::python-dateutil-2.8.1-pyhd3eb1b0_0\n",
            "  pytz               pkgs/main/noarch::pytz-2021.1-pyhd3eb1b0_0\n",
            "  rdkit              rdkit/linux-64::rdkit-2020.09.1.0-py37hd50e099_1\n",
            "  zstd               pkgs/main/linux-64::zstd-1.4.5-h9ceee32_0\n",
            "\n",
            "The following packages will be UPDATED:\n",
            "\n",
            "  ca-certificates                                2020.1.1-0 --> 2021.4.13-h06a4308_1\n",
            "  certifi                                 2019.11.28-py37_0 --> 2020.12.5-py37h06a4308_0\n",
            "  conda                                        4.8.2-py37_0 --> 4.10.1-py37h06a4308_1\n",
            "  libffi                                   3.2.1-hd88cf55_4 --> 3.3-he6710b0_2\n",
            "  openssl                                 1.1.1d-h7b6447c_4 --> 1.1.1k-h27cfd23_0\n",
            "  xz                                       5.2.4-h14c3975_4 --> 5.2.5-h7b6447c_0\n",
            "\n",
            "\n",
            "\n",
            "Downloading and Extracting Packages\n",
            "cairo-1.16.0         | 1.0 MB    | : 100% 1.0/1 [00:00<00:00,  5.84it/s]              \n",
            "libtiff-4.2.0        | 502 KB    | : 100% 1.0/1 [00:00<00:00, 10.43it/s]\n",
            "libxml2-2.9.10       | 1.2 MB    | : 100% 1.0/1 [00:00<00:00,  8.61it/s]\n",
            "mkl-service-2.3.0    | 52 KB     | : 100% 1.0/1 [00:00<00:00, 21.85it/s]\n",
            "pillow-8.2.0         | 622 KB    | : 100% 1.0/1 [00:00<00:00, 12.08it/s]\n",
            "rdkit-2020.09.1.0    | 25.8 MB   | : 100% 1.0/1 [00:05<00:00,  5.87s/it]\n",
            "libwebp-base-1.2.0   | 437 KB    | : 100% 1.0/1 [00:00<00:00, 15.35it/s]\n",
            "pandas-1.2.4         | 8.5 MB    | : 100% 1.0/1 [00:00<00:00,  1.48it/s]               \n",
            "pcre-8.44            | 212 KB    | : 100% 1.0/1 [00:00<00:00, 15.45it/s]\n",
            "xz-5.2.5             | 341 KB    | : 100% 1.0/1 [00:00<00:00, 12.25it/s]\n",
            "intel-openmp-2020.2  | 786 KB    | : 100% 1.0/1 [00:00<00:00, 13.11it/s]\n",
            "mkl_random-1.1.1     | 322 KB    | : 100% 1.0/1 [00:00<00:00, 17.90it/s]\n",
            "lz4-c-1.9.3          | 186 KB    | : 100% 1.0/1 [00:00<00:00, 15.72it/s]\n",
            "libpng-1.6.37        | 278 KB    | : 100% 1.0/1 [00:00<00:00, 15.69it/s]\n",
            "lcms2-2.12           | 312 KB    | : 100% 1.0/1 [00:00<00:00, 16.11it/s]\n",
            "zstd-1.4.5           | 619 KB    | : 100% 1.0/1 [00:00<00:00, 13.72it/s]\n",
            "fontconfig-2.13.1    | 250 KB    | : 100% 1.0/1 [00:00<00:00, 15.12it/s]\n",
            "py-boost-1.73.0      | 204 KB    | : 100% 1.0/1 [00:00<00:00, 15.31it/s]\n",
            "ca-certificates-2021 | 114 KB    | : 100% 1.0/1 [00:00<00:00, 17.67it/s]\n",
            "mkl-2020.2           | 138.3 MB  | : 100% 1.0/1 [00:06<00:00,  6.01s/it]               \n",
            "jpeg-9b              | 214 KB    | : 100% 1.0/1 [00:00<00:00, 13.85it/s]\n",
            "openssl-1.1.1k       | 2.5 MB    | : 100% 1.0/1 [00:00<00:00,  7.55it/s]\n",
            "freetype-2.10.4      | 596 KB    | : 100% 1.0/1 [00:00<00:00, 14.55it/s]\n",
            "olefile-0.46         | 50 KB     | : 100% 1.0/1 [00:00<00:00, 14.71it/s]\n",
            "libuuid-1.0.3        | 15 KB     | : 100% 1.0/1 [00:00<00:00, 17.33it/s]\n",
            "bzip2-1.0.8          | 78 KB     | : 100% 1.0/1 [00:00<00:00, 14.21it/s]\n",
            "numpy-1.19.2         | 22 KB     | : 100% 1.0/1 [00:00<00:00, 19.28it/s]\n",
            "mkl_fft-1.3.0        | 167 KB    | : 100% 1.0/1 [00:00<00:00, 11.98it/s]\n",
            "blas-1.0             | 6 KB      | : 100% 1.0/1 [00:00<00:00, 19.41it/s]\n",
            "pytz-2021.1          | 181 KB    | : 100% 1.0/1 [00:00<00:00,  7.56it/s]\n",
            "numpy-base-1.19.2    | 4.1 MB    | : 100% 1.0/1 [00:00<00:00,  3.23it/s]\n",
            "libboost-1.73.0      | 13.9 MB   | : 100% 1.0/1 [00:02<00:00,  1.29s/it]               \n",
            "icu-58.2             | 10.5 MB   | : 100% 1.0/1 [00:00<00:00,  2.19it/s]              \n",
            "glib-2.68.1          | 3.0 MB    | : 100% 1.0/1 [00:00<00:00,  3.57it/s]\n",
            "libffi-3.3           | 50 KB     | : 100% 1.0/1 [00:00<00:00, 17.49it/s]\n",
            "python-dateutil-2.8. | 221 KB    | : 100% 1.0/1 [00:00<00:00, 11.86it/s]\n",
            "libxcb-1.14          | 505 KB    | : 100% 1.0/1 [00:00<00:00, 10.48it/s]\n",
            "certifi-2020.12.5    | 141 KB    | : 100% 1.0/1 [00:00<00:00, 13.62it/s]\n",
            "pixman-0.40.0        | 370 KB    | : 100% 1.0/1 [00:00<00:00,  1.84it/s]\n",
            "conda-4.10.1         | 2.9 MB    | : 100% 1.0/1 [00:00<00:00,  5.31it/s]\n",
            "Preparing transaction: \\ \b\b| \b\b/ \b\b- \b\b\\ \b\b| \b\b/ \b\b- \b\b\\ \b\b| \b\bdone\n",
            "Verifying transaction: - \b\b\\ \b\b| \b\b/ \b\b- \b\b\\ \b\b| \b\b/ \b\b- \b\b\\ \b\b| \b\b/ \b\b- \b\b\\ \b\b| \b\b/ \b\b- \b\b\\ \b\b| \b\b/ \b\b- \b\b\\ \b\b| \b\b/ \b\b- \b\b\\ \b\b| \b\b/ \b\bdone\n",
            "Executing transaction: \\ \b\b| \b\b/ \b\b- \b\b\\ \b\b| \b\b/ \b\b- \b\b\\ \b\b| \b\b/ \b\b- \b\b\\ \b\b| \b\b/ \b\b- \b\b\\ \b\b| \b\b/ \b\b- \b\b\\ \b\b| \b\b/ \b\b- \b\b\\ \b\b| \b\b/ \b\b- \b\b\\ \b\b| \b\b/ \b\b- \b\b\\ \b\b| \b\b/ \b\b- \b\b\\ \b\b| \b\b/ \b\b- \b\b\\ \b\b| \b\b/ \b\b- \b\b\\ \b\b| \b\b/ \b\b- \b\b\\ \b\b| \b\b/ \b\b- \b\b\\ \b\b| \b\b/ \b\b- \b\b\\ \b\b| \b\b/ \b\b- \b\b\\ \b\b| \b\b/ \b\b- \b\b\\ \b\b| \b\b/ \b\b- \b\b\\ \b\b| \b\b/ \b\b- \b\b\\ \b\b| \b\b/ \b\b- \b\b\\ \b\b| \b\b/ \b\b- \b\b\\ \b\b| \b\b/ \b\b- \b\b\\ \b\b| \b\b/ \b\b- \b\b\\ \b\b| \b\b/ \b\b- \b\b\\ \b\b| \b\b/ \b\b- \b\b\\ \b\b| \b\b/ \b\b- \b\b\\ \b\b| \b\b/ \b\b- \b\b\\ \b\b| \b\b/ \b\b- \b\b\\ \b\b| \b\b/ \b\b- \b\b\\ \b\b| \b\b/ \b\b- \b\b\\ \b\b| \b\b/ \b\b- \b\b\\ \b\b| \b\b/ \b\b- \b\b\\ \b\b| \b\b/ \b\b- \b\b\\ \b\b| \b\b/ \b\b- \b\b\\ \b\b| \b\b/ \b\b- \b\b\\ \b\b| \b\b/ \b\b- \b\b\\ \b\b| \b\b/ \b\b- \b\b\\ \b\b| \b\b/ \b\b- \b\b\\ \b\b| \b\b/ \b\b- \b\b\\ \b\b| \b\b/ \b\b- \b\b\\ \b\b| \b\b/ \b\b- \b\b\\ \b\b| \b\b/ \b\b- \b\b\\ \b\b| \b\b/ \b\b- \b\b\\ \b\b| \b\b/ \b\b- \b\b\\ \b\b| \b\b/ \b\b- \b\b\\ \b\b| \b\b/ \b\b- \b\b\\ \b\b| \b\b/ \b\b- \b\b\\ \b\b| \b\b/ \b\b- \b\b\\ \b\b| \b\b/ \b\b- \b\b\\ \b\b| \b\b/ \b\b- \b\b\\ \b\b| \b\b/ \b\b- \b\b\\ \b\b| \b\b/ \b\b- \b\b\\ \b\b| \b\b/ \b\b- \b\b\\ \b\b| \b\b/ \b\b- \b\b\\ \b\b| \b\b/ \b\b- \b\b\\ \b\b| \b\b/ \b\b- \b\b\\ \b\b| \b\b/ \b\b- \b\b\\ \b\b| \b\b/ \b\b- \b\b\\ \b\b| \b\b/ \b\b- \b\b\\ \b\b| \b\b/ \b\b- \b\b\\ \b\b| \b\b/ \b\b- \b\b\\ \b\b| \b\b/ \b\b- \b\b\\ \b\b| \b\b/ \b\b- \b\b\\ \b\b| \b\b/ \b\b- \b\b\\ \b\b| \b\b/ \b\b- \b\b\\ \b\b| \b\b/ \b\b- \b\b\\ \b\b| \b\b/ \b\b- \b\b\\ \b\b| \b\b/ \b\b- \b\b\\ \b\b| \b\b/ \b\b- \b\b\\ \b\b| \b\b/ \b\b- \b\b\\ \b\b| \b\b/ \b\b- \b\b\\ \b\b| \b\b/ \b\b- \b\b\\ \b\b| \b\b/ \b\b- \b\b\\ \b\b| \b\b/ \b\b- \b\b\\ \b\b| \b\b/ \b\b- \b\b\\ \b\b| \b\b/ \b\b- \b\b\\ \b\b| \b\b/ \b\b- \b\b\\ \b\b| \b\b/ \b\b- \b\bdone\n"
          ],
          "name": "stdout"
        }
      ]
    },
    {
      "cell_type": "markdown",
      "metadata": {
        "id": "H661uGwCNFMC"
      },
      "source": [
        "## **2. Delaney's solubility dataset**\n",
        "\n",
        "The original [Delaney's dataset](https://pubs.acs.org/doi/10.1021/ci034243x) available as a [Supplementary file](https://pubs.acs.org/doi/10.1021/ci034243x)$^4$. The full paper is entitled [ESOL:  Estimating Aqueous Solubility Directly from Molecular Structure](https://pubs.acs.org/doi/10.1021/ci034243x).$^1$"
      ]
    },
    {
      "cell_type": "markdown",
      "metadata": {
        "id": "s6o9QzQnNRVx"
      },
      "source": [
        "### **2.1. Download the dataset**"
      ]
    },
    {
      "cell_type": "code",
      "metadata": {
        "id": "6KKvV74LM1it",
        "colab": {
          "base_uri": "https://localhost:8080/"
        },
        "outputId": "125f6e93-a1cd-4545-9c74-e229098648b2"
      },
      "source": [
        "! wget https://pubs.acs.org/doi/suppl/10.1021/ci034243x/suppl_file/ci034243xsi20040112_053635.txt"
      ],
      "execution_count": 4,
      "outputs": [
        {
          "output_type": "stream",
          "text": [
            "--2021-04-21 15:09:58--  https://pubs.acs.org/doi/suppl/10.1021/ci034243x/suppl_file/ci034243xsi20040112_053635.txt\n",
            "Resolving pubs.acs.org (pubs.acs.org)... 104.18.0.20, 104.18.1.20\n",
            "Connecting to pubs.acs.org (pubs.acs.org)|104.18.0.20|:443... connected.\n",
            "HTTP request sent, awaiting response... 302 Found\n",
            "Location: https://pubs.acs.org/doi/suppl/10.1021/ci034243x/suppl_file/ci034243xsi20040112_053635.txt?cookieSet=1 [following]\n",
            "--2021-04-21 15:09:59--  https://pubs.acs.org/doi/suppl/10.1021/ci034243x/suppl_file/ci034243xsi20040112_053635.txt?cookieSet=1\n",
            "Reusing existing connection to pubs.acs.org:443.\n",
            "HTTP request sent, awaiting response... 302 Found\n",
            "Location: https://pubs.acs.org/doi/suppl/10.1021/ci034243x/suppl_file/ci034243xsi20040112_053635.txt [following]\n",
            "--2021-04-21 15:09:59--  https://pubs.acs.org/doi/suppl/10.1021/ci034243x/suppl_file/ci034243xsi20040112_053635.txt\n",
            "Reusing existing connection to pubs.acs.org:443.\n",
            "HTTP request sent, awaiting response... 200 OK\n",
            "Length: 60034 (59K) [text/plain]\n",
            "Saving to: ‘ci034243xsi20040112_053635.txt’\n",
            "\n",
            "ci034243xsi20040112 100%[===================>]  58.63K  --.-KB/s    in 0.008s  \n",
            "\n",
            "2021-04-21 15:09:59 (6.89 MB/s) - ‘ci034243xsi20040112_053635.txt’ saved [60034/60034]\n",
            "\n"
          ],
          "name": "stdout"
        }
      ]
    },
    {
      "cell_type": "code",
      "metadata": {
        "id": "mBP_uaJZ710V",
        "colab": {
          "base_uri": "https://localhost:8080/"
        },
        "outputId": "9b8bb740-4c53-40cb-ae1e-152a9deaf56b"
      },
      "source": [
        "! wget https://raw.githubusercontent.com/dataprofessor/data/master/delaney.csv"
      ],
      "execution_count": 5,
      "outputs": [
        {
          "output_type": "stream",
          "text": [
            "--2021-04-21 15:10:02--  https://raw.githubusercontent.com/dataprofessor/data/master/delaney.csv\n",
            "Resolving raw.githubusercontent.com (raw.githubusercontent.com)... 185.199.108.133, 185.199.109.133, 185.199.110.133, ...\n",
            "Connecting to raw.githubusercontent.com (raw.githubusercontent.com)|185.199.108.133|:443... connected.\n",
            "HTTP request sent, awaiting response... 200 OK\n",
            "Length: 58889 (58K) [text/plain]\n",
            "Saving to: ‘delaney.csv’\n",
            "\n",
            "delaney.csv         100%[===================>]  57.51K  --.-KB/s    in 0.008s  \n",
            "\n",
            "2021-04-21 15:10:03 (7.17 MB/s) - ‘delaney.csv’ saved [58889/58889]\n",
            "\n"
          ],
          "name": "stdout"
        }
      ]
    },
    {
      "cell_type": "markdown",
      "metadata": {
        "id": "PJGp_xenNYKy"
      },
      "source": [
        "### **2.2. Read in the dataset**"
      ]
    },
    {
      "cell_type": "code",
      "metadata": {
        "id": "0ufiOpEbNooH"
      },
      "source": [
        "import pandas as pd"
      ],
      "execution_count": 6,
      "outputs": []
    },
    {
      "cell_type": "code",
      "metadata": {
        "id": "nLS6bwiRNtuV",
        "colab": {
          "base_uri": "https://localhost:8080/",
          "height": 402
        },
        "outputId": "d15a827f-888f-411c-9adf-46c06c2d3436"
      },
      "source": [
        "sol = pd.read_csv('delaney.csv')\n",
        "sol"
      ],
      "execution_count": 7,
      "outputs": [
        {
          "output_type": "execute_result",
          "data": {
            "text/html": [
              "<div>\n",
              "<style scoped>\n",
              "    .dataframe tbody tr th:only-of-type {\n",
              "        vertical-align: middle;\n",
              "    }\n",
              "\n",
              "    .dataframe tbody tr th {\n",
              "        vertical-align: top;\n",
              "    }\n",
              "\n",
              "    .dataframe thead th {\n",
              "        text-align: right;\n",
              "    }\n",
              "</style>\n",
              "<table border=\"1\" class=\"dataframe\">\n",
              "  <thead>\n",
              "    <tr style=\"text-align: right;\">\n",
              "      <th></th>\n",
              "      <th>Compound ID</th>\n",
              "      <th>measured log(solubility:mol/L)</th>\n",
              "      <th>ESOL predicted log(solubility:mol/L)</th>\n",
              "      <th>SMILES</th>\n",
              "    </tr>\n",
              "  </thead>\n",
              "  <tbody>\n",
              "    <tr>\n",
              "      <th>0</th>\n",
              "      <td>1,1,1,2-Tetrachloroethane</td>\n",
              "      <td>-2.180</td>\n",
              "      <td>-2.794</td>\n",
              "      <td>ClCC(Cl)(Cl)Cl</td>\n",
              "    </tr>\n",
              "    <tr>\n",
              "      <th>1</th>\n",
              "      <td>1,1,1-Trichloroethane</td>\n",
              "      <td>-2.000</td>\n",
              "      <td>-2.232</td>\n",
              "      <td>CC(Cl)(Cl)Cl</td>\n",
              "    </tr>\n",
              "    <tr>\n",
              "      <th>2</th>\n",
              "      <td>1,1,2,2-Tetrachloroethane</td>\n",
              "      <td>-1.740</td>\n",
              "      <td>-2.549</td>\n",
              "      <td>ClC(Cl)C(Cl)Cl</td>\n",
              "    </tr>\n",
              "    <tr>\n",
              "      <th>3</th>\n",
              "      <td>1,1,2-Trichloroethane</td>\n",
              "      <td>-1.480</td>\n",
              "      <td>-1.961</td>\n",
              "      <td>ClCC(Cl)Cl</td>\n",
              "    </tr>\n",
              "    <tr>\n",
              "      <th>4</th>\n",
              "      <td>1,1,2-Trichlorotrifluoroethane</td>\n",
              "      <td>-3.040</td>\n",
              "      <td>-3.077</td>\n",
              "      <td>FC(F)(Cl)C(F)(Cl)Cl</td>\n",
              "    </tr>\n",
              "    <tr>\n",
              "      <th>...</th>\n",
              "      <td>...</td>\n",
              "      <td>...</td>\n",
              "      <td>...</td>\n",
              "      <td>...</td>\n",
              "    </tr>\n",
              "    <tr>\n",
              "      <th>1139</th>\n",
              "      <td>vamidothion</td>\n",
              "      <td>1.144</td>\n",
              "      <td>-1.446</td>\n",
              "      <td>CNC(=O)C(C)SCCSP(=O)(OC)(OC)</td>\n",
              "    </tr>\n",
              "    <tr>\n",
              "      <th>1140</th>\n",
              "      <td>Vinclozolin</td>\n",
              "      <td>-4.925</td>\n",
              "      <td>-4.377</td>\n",
              "      <td>CC1(OC(=O)N(C1=O)c2cc(Cl)cc(Cl)c2)C=C</td>\n",
              "    </tr>\n",
              "    <tr>\n",
              "      <th>1141</th>\n",
              "      <td>Warfarin</td>\n",
              "      <td>-3.893</td>\n",
              "      <td>-3.913</td>\n",
              "      <td>CC(=O)CC(c1ccccc1)c3c(O)c2ccccc2oc3=O</td>\n",
              "    </tr>\n",
              "    <tr>\n",
              "      <th>1142</th>\n",
              "      <td>Xipamide</td>\n",
              "      <td>-3.790</td>\n",
              "      <td>-3.642</td>\n",
              "      <td>Cc1cccc(C)c1NC(=O)c2cc(c(Cl)cc2O)S(N)(=O)=O</td>\n",
              "    </tr>\n",
              "    <tr>\n",
              "      <th>1143</th>\n",
              "      <td>XMC</td>\n",
              "      <td>-2.581</td>\n",
              "      <td>-2.688</td>\n",
              "      <td>CNC(=O)Oc1cc(C)cc(C)c1</td>\n",
              "    </tr>\n",
              "  </tbody>\n",
              "</table>\n",
              "<p>1144 rows × 4 columns</p>\n",
              "</div>"
            ],
            "text/plain": [
              "                         Compound ID  ...                                       SMILES\n",
              "0          1,1,1,2-Tetrachloroethane  ...                               ClCC(Cl)(Cl)Cl\n",
              "1              1,1,1-Trichloroethane  ...                                 CC(Cl)(Cl)Cl\n",
              "2          1,1,2,2-Tetrachloroethane  ...                               ClC(Cl)C(Cl)Cl\n",
              "3              1,1,2-Trichloroethane  ...                                   ClCC(Cl)Cl\n",
              "4     1,1,2-Trichlorotrifluoroethane  ...                          FC(F)(Cl)C(F)(Cl)Cl\n",
              "...                              ...  ...                                          ...\n",
              "1139                     vamidothion  ...                 CNC(=O)C(C)SCCSP(=O)(OC)(OC)\n",
              "1140                     Vinclozolin  ...        CC1(OC(=O)N(C1=O)c2cc(Cl)cc(Cl)c2)C=C\n",
              "1141                        Warfarin  ...       CC(=O)CC(c1ccccc1)c3c(O)c2ccccc2oc3=O \n",
              "1142                        Xipamide  ...  Cc1cccc(C)c1NC(=O)c2cc(c(Cl)cc2O)S(N)(=O)=O\n",
              "1143                             XMC  ...                       CNC(=O)Oc1cc(C)cc(C)c1\n",
              "\n",
              "[1144 rows x 4 columns]"
            ]
          },
          "metadata": {
            "tags": []
          },
          "execution_count": 7
        }
      ]
    },
    {
      "cell_type": "markdown",
      "metadata": {
        "id": "cUzImGPEXZRn"
      },
      "source": [
        "### **2.3. Examining the SMILES data**"
      ]
    },
    {
      "cell_type": "markdown",
      "metadata": {
        "id": "gGDLzIZmN5sJ"
      },
      "source": [
        "Chemical structures are encoded by a string of text known as **SMILES** which is an acronym for **Simplified Molecular-Input Line-Entry System**."
      ]
    },
    {
      "cell_type": "code",
      "metadata": {
        "id": "4pF777dmOOZ3",
        "colab": {
          "base_uri": "https://localhost:8080/"
        },
        "outputId": "67fa86ec-2f55-404a-b7af-8816072b14b7"
      },
      "source": [
        "sol.SMILES"
      ],
      "execution_count": 8,
      "outputs": [
        {
          "output_type": "execute_result",
          "data": {
            "text/plain": [
              "0                                    ClCC(Cl)(Cl)Cl\n",
              "1                                      CC(Cl)(Cl)Cl\n",
              "2                                    ClC(Cl)C(Cl)Cl\n",
              "3                                        ClCC(Cl)Cl\n",
              "4                               FC(F)(Cl)C(F)(Cl)Cl\n",
              "                           ...                     \n",
              "1139                   CNC(=O)C(C)SCCSP(=O)(OC)(OC)\n",
              "1140          CC1(OC(=O)N(C1=O)c2cc(Cl)cc(Cl)c2)C=C\n",
              "1141         CC(=O)CC(c1ccccc1)c3c(O)c2ccccc2oc3=O \n",
              "1142    Cc1cccc(C)c1NC(=O)c2cc(c(Cl)cc2O)S(N)(=O)=O\n",
              "1143                         CNC(=O)Oc1cc(C)cc(C)c1\n",
              "Name: SMILES, Length: 1144, dtype: object"
            ]
          },
          "metadata": {
            "tags": []
          },
          "execution_count": 8
        }
      ]
    },
    {
      "cell_type": "markdown",
      "metadata": {
        "id": "qHlN5973X6bJ"
      },
      "source": [
        "The first element from the **SMILES** column of the **sol** dataframe."
      ]
    },
    {
      "cell_type": "code",
      "metadata": {
        "id": "jN0dzq9dXF5N",
        "colab": {
          "base_uri": "https://localhost:8080/",
          "height": 35
        },
        "outputId": "11b6b126-99ed-44e6-d1f0-3950eea27dca"
      },
      "source": [
        "sol.SMILES[0]"
      ],
      "execution_count": 9,
      "outputs": [
        {
          "output_type": "execute_result",
          "data": {
            "application/vnd.google.colaboratory.intrinsic+json": {
              "type": "string"
            },
            "text/plain": [
              "'ClCC(Cl)(Cl)Cl'"
            ]
          },
          "metadata": {
            "tags": []
          },
          "execution_count": 9
        }
      ]
    },
    {
      "cell_type": "markdown",
      "metadata": {
        "id": "NO7tSBIeXQWk"
      },
      "source": [
        "### **2.4. Convert a molecule from the SMILES string to an rdkit object**"
      ]
    },
    {
      "cell_type": "code",
      "metadata": {
        "id": "BmlrBL_MOTkB"
      },
      "source": [
        "from rdkit import Chem"
      ],
      "execution_count": 13,
      "outputs": []
    },
    {
      "cell_type": "code",
      "metadata": {
        "id": "0f9JLRD0XO85",
        "colab": {
          "base_uri": "https://localhost:8080/"
        },
        "outputId": "af9d522a-2974-482f-ba4d-b6fbb174194c"
      },
      "source": [
        "Chem.MolFromSmiles(sol.SMILES[0])"
      ],
      "execution_count": 14,
      "outputs": [
        {
          "output_type": "execute_result",
          "data": {
            "text/plain": [
              "<rdkit.Chem.rdchem.Mol at 0x7f40723d1f30>"
            ]
          },
          "metadata": {
            "tags": []
          },
          "execution_count": 14
        }
      ]
    },
    {
      "cell_type": "code",
      "metadata": {
        "id": "rwfN-yZYEFof",
        "colab": {
          "base_uri": "https://localhost:8080/"
        },
        "outputId": "02809975-d377-4bce-8cad-90f78185dbd7"
      },
      "source": [
        "Chem.MolFromSmiles('ClCC(Cl)(Cl)Cl')"
      ],
      "execution_count": 15,
      "outputs": [
        {
          "output_type": "execute_result",
          "data": {
            "text/plain": [
              "<rdkit.Chem.rdchem.Mol at 0x7f40723d72b0>"
            ]
          },
          "metadata": {
            "tags": []
          },
          "execution_count": 15
        }
      ]
    },
    {
      "cell_type": "markdown",
      "metadata": {
        "id": "MCdX2GjXFG-A"
      },
      "source": [
        "### **2.5. Working with rdkit object**"
      ]
    },
    {
      "cell_type": "code",
      "metadata": {
        "id": "8_6xQmjHFOo1"
      },
      "source": [
        "m = Chem.MolFromSmiles('ClCC(Cl)(Cl)Cl')"
      ],
      "execution_count": 16,
      "outputs": []
    },
    {
      "cell_type": "code",
      "metadata": {
        "id": "3dn79-t4FLgT",
        "colab": {
          "base_uri": "https://localhost:8080/"
        },
        "outputId": "43a1a49c-0c5c-4ba5-96b6-77cb5d616546"
      },
      "source": [
        "m.GetNumAtoms()"
      ],
      "execution_count": 17,
      "outputs": [
        {
          "output_type": "execute_result",
          "data": {
            "text/plain": [
              "6"
            ]
          },
          "metadata": {
            "tags": []
          },
          "execution_count": 17
        }
      ]
    },
    {
      "cell_type": "markdown",
      "metadata": {
        "id": "uqQLXGKQQAvX"
      },
      "source": [
        "## **3. Calculate molecular descriptors in rdkit**"
      ]
    },
    {
      "cell_type": "markdown",
      "metadata": {
        "id": "iD_6apg8kYDy"
      },
      "source": [
        "### **3.1. Convert list of molecules to rdkit object**"
      ]
    },
    {
      "cell_type": "code",
      "metadata": {
        "id": "bQjMv-wLOlmg"
      },
      "source": [
        "from rdkit import Chem"
      ],
      "execution_count": null,
      "outputs": []
    },
    {
      "cell_type": "markdown",
      "metadata": {
        "id": "TyaEoBb5FiKc"
      },
      "source": [
        "#### **3.1.1. Method 1**"
      ]
    },
    {
      "cell_type": "code",
      "metadata": {
        "id": "JisoMYFgka_p"
      },
      "source": [
        "mol_list= []\n",
        "for element in sol.SMILES:\n",
        "  mol = Chem.MolFromSmiles(element)\n",
        "  mol_list.append(mol)"
      ],
      "execution_count": null,
      "outputs": []
    },
    {
      "cell_type": "code",
      "metadata": {
        "id": "ZL7fG5Aok0Gh"
      },
      "source": [
        "len(mol_list)"
      ],
      "execution_count": null,
      "outputs": []
    },
    {
      "cell_type": "code",
      "metadata": {
        "id": "WiGYdtPUk3hV"
      },
      "source": [
        "mol_list[:5]"
      ],
      "execution_count": null,
      "outputs": []
    },
    {
      "cell_type": "markdown",
      "metadata": {
        "id": "-rBxrxF8Fk5S"
      },
      "source": [
        "#### **3.1.2. Method 2**"
      ]
    },
    {
      "cell_type": "code",
      "metadata": {
        "id": "AaHAVM2yFm3J"
      },
      "source": [
        "mol_list2 = [Chem.MolFromSmiles(element) for element in sol.SMILES]"
      ],
      "execution_count": null,
      "outputs": []
    },
    {
      "cell_type": "code",
      "metadata": {
        "id": "Fw5BCeh7F2c9"
      },
      "source": [
        "len(mol_list2)"
      ],
      "execution_count": null,
      "outputs": []
    },
    {
      "cell_type": "code",
      "metadata": {
        "id": "uASSo7ZMF5iv"
      },
      "source": [
        "mol_list2[:5]"
      ],
      "execution_count": null,
      "outputs": []
    },
    {
      "cell_type": "markdown",
      "metadata": {
        "id": "olyPX1TjQMvr"
      },
      "source": [
        "### **3.2. Calculate molecular descriptors**\n",
        "\n",
        "To predict **LogS** (log of the aqueous solubility), the study by Delaney makes use of 4 molecular descriptors:\n",
        "1. **cLogP** *(Octanol-water partition coefficient)*\n",
        "2. **MW** *(Molecular weight)*\n",
        "3. **RB** *(Number of rotatable bonds)*\n",
        "4. **AP** *(Aromatic proportion = number of aromatic atoms / total number of heavy atoms)*\n",
        "\n",
        "Unfortunately, rdkit readily computes the first 3. As for the AP descriptor, we will calculate this by manually computing the ratio of the *number of aromatic atoms* to the *total number of heavy atoms* which rdkit can compute."
      ]
    },
    {
      "cell_type": "markdown",
      "metadata": {
        "id": "k4fqhekzCB-X"
      },
      "source": [
        "#### **3.2.1. LogP, MW and RB**"
      ]
    },
    {
      "cell_type": "code",
      "metadata": {
        "id": "iS4w5r5ocxT8"
      },
      "source": [
        "import numpy as np\n",
        "from rdkit.Chem import Descriptors"
      ],
      "execution_count": null,
      "outputs": []
    },
    {
      "cell_type": "code",
      "metadata": {
        "id": "WkNMPVu_giw8"
      },
      "source": [
        "# Inspired by: https://codeocean.com/explore/capsules?query=tag:data-curation\n",
        "\n",
        "def generate(smiles, verbose=False):\n",
        "\n",
        "    moldata= []\n",
        "    for elem in smiles:\n",
        "        mol=Chem.MolFromSmiles(elem) \n",
        "        moldata.append(mol)\n",
        "       \n",
        "    baseData= np.arange(1,1)\n",
        "    i=0  \n",
        "    for mol in moldata:        \n",
        "       \n",
        "        desc_MolLogP = Descriptors.MolLogP(mol)\n",
        "        desc_MolWt = Descriptors.MolWt(mol)\n",
        "        desc_NumRotatableBonds = Descriptors.NumRotatableBonds(mol)\n",
        "           \n",
        "        row = np.array([desc_MolLogP,\n",
        "                        desc_MolWt,\n",
        "                        desc_NumRotatableBonds])   \n",
        "    \n",
        "        if(i==0):\n",
        "            baseData=row\n",
        "        else:\n",
        "            baseData=np.vstack([baseData, row])\n",
        "        i=i+1      \n",
        "    \n",
        "    columnNames=[\"MolLogP\",\"MolWt\",\"NumRotatableBonds\"]   \n",
        "    descriptors = pd.DataFrame(data=baseData,columns=columnNames)\n",
        "    \n",
        "    return descriptors"
      ],
      "execution_count": null,
      "outputs": []
    },
    {
      "cell_type": "code",
      "metadata": {
        "id": "MzMulCVvcf59"
      },
      "source": [
        "df = generate(sol.SMILES)\n",
        "df"
      ],
      "execution_count": null,
      "outputs": []
    },
    {
      "cell_type": "markdown",
      "metadata": {
        "id": "XtlGQy82OiCm"
      },
      "source": [
        "#### **3.2.2. Aromatic proportion**"
      ]
    },
    {
      "cell_type": "markdown",
      "metadata": {
        "id": "YVK5WqOYSmY8"
      },
      "source": [
        "##### 3.2.1.1. Number of aromatic atoms\n",
        "\n",
        "Here, we will create a custom function to calculate the **Number of aromatic atoms**. With this descriptor we can use it to subsequently calculate the AP descriptor."
      ]
    },
    {
      "cell_type": "markdown",
      "metadata": {
        "id": "xcw9oaPR4NM1"
      },
      "source": [
        "Computing for a single molecule."
      ]
    },
    {
      "cell_type": "code",
      "metadata": {
        "id": "1fJVXNHCSfLk"
      },
      "source": [
        "m = Chem.MolFromSmiles('COc1cccc2cc(C(=O)NCCCCN3CCN(c4cccc5nccnc54)CC3)oc21')"
      ],
      "execution_count": null,
      "outputs": []
    },
    {
      "cell_type": "code",
      "metadata": {
        "id": "FENb_2BkYyVq"
      },
      "source": [
        "aromatic_atoms = [m.GetAtomWithIdx(i).GetIsAromatic() for i in range(m.GetNumAtoms())]\n",
        "aromatic_atoms"
      ],
      "execution_count": null,
      "outputs": []
    },
    {
      "cell_type": "code",
      "metadata": {
        "id": "nIF7IrIlcGPD"
      },
      "source": [
        "def AromaticAtoms(m):\n",
        "  aromatic_atoms = [m.GetAtomWithIdx(i).GetIsAromatic() for i in range(m.GetNumAtoms())]\n",
        "  aa_count = []\n",
        "  for i in aromatic_atoms:\n",
        "    if i==True:\n",
        "      aa_count.append(1)\n",
        "  sum_aa_count = sum(aa_count)\n",
        "  return sum_aa_count"
      ],
      "execution_count": null,
      "outputs": []
    },
    {
      "cell_type": "code",
      "metadata": {
        "id": "PK-RJ-dpbqhn"
      },
      "source": [
        "AromaticAtoms(m)"
      ],
      "execution_count": null,
      "outputs": []
    },
    {
      "cell_type": "markdown",
      "metadata": {
        "id": "-uywPiwe4O31"
      },
      "source": [
        "Computing for molecules in the entire dataset."
      ]
    },
    {
      "cell_type": "code",
      "metadata": {
        "id": "jCeydvky4Rgl"
      },
      "source": [
        "desc_AromaticAtoms = [AromaticAtoms(element) for element in mol_list]\n",
        "desc_AromaticAtoms"
      ],
      "execution_count": null,
      "outputs": []
    },
    {
      "cell_type": "markdown",
      "metadata": {
        "id": "rXGyuCnbOplQ"
      },
      "source": [
        "##### 3.2.1.2. **Number of heavy atoms**\n",
        "\n",
        "Here, we will use an existing function for calculating the Number of heavy atoms."
      ]
    },
    {
      "cell_type": "markdown",
      "metadata": {
        "id": "Wgf1teHz3_pP"
      },
      "source": [
        "Computing for a single molecule."
      ]
    },
    {
      "cell_type": "code",
      "metadata": {
        "id": "jVwvt02AOvhv"
      },
      "source": [
        "m = Chem.MolFromSmiles('COc1cccc2cc(C(=O)NCCCCN3CCN(c4cccc5nccnc54)CC3)oc21')\n",
        "Descriptors.HeavyAtomCount(m)"
      ],
      "execution_count": null,
      "outputs": []
    },
    {
      "cell_type": "markdown",
      "metadata": {
        "id": "Pv_BJcjA4HPz"
      },
      "source": [
        "Computing for molecules in the entire dataset."
      ]
    },
    {
      "cell_type": "code",
      "metadata": {
        "id": "m9nsQqIkOuIU"
      },
      "source": [
        "desc_HeavyAtomCount = [Descriptors.HeavyAtomCount(element) for element in mol_list]\n",
        "desc_HeavyAtomCount"
      ],
      "execution_count": null,
      "outputs": []
    },
    {
      "cell_type": "markdown",
      "metadata": {
        "id": "iFDGqPQPQYZb"
      },
      "source": [
        "##### **3.2.1.3. Computing the Aromatic Proportion (AP) descriptor**"
      ]
    },
    {
      "cell_type": "markdown",
      "metadata": {
        "id": "0xVXJIre5-HC"
      },
      "source": [
        "Computing for a single molecule."
      ]
    },
    {
      "cell_type": "code",
      "metadata": {
        "id": "fZAwtZTM5WHU"
      },
      "source": [
        "m = Chem.MolFromSmiles('COc1cccc2cc(C(=O)NCCCCN3CCN(c4cccc5nccnc54)CC3)oc21')\n",
        "AromaticAtoms(m)/Descriptors.HeavyAtomCount(m)"
      ],
      "execution_count": null,
      "outputs": []
    },
    {
      "cell_type": "markdown",
      "metadata": {
        "id": "JsHdN1ui6BBo"
      },
      "source": [
        "Computing for molecules in the entire dataset."
      ]
    },
    {
      "cell_type": "code",
      "metadata": {
        "id": "DogBBjDu4-mI"
      },
      "source": [
        "desc_AromaticProportion = [AromaticAtoms(element)/Descriptors.HeavyAtomCount(element) for element in mol_list]\n",
        "desc_AromaticProportion"
      ],
      "execution_count": null,
      "outputs": []
    },
    {
      "cell_type": "code",
      "metadata": {
        "id": "9zovyVTQOxvA"
      },
      "source": [
        "df_desc_AromaticProportion = pd.DataFrame(desc_AromaticProportion, columns=['AromaticProportion'])\n",
        "df_desc_AromaticProportion"
      ],
      "execution_count": null,
      "outputs": []
    },
    {
      "cell_type": "markdown",
      "metadata": {
        "id": "3ZKZKPOuCVTY"
      },
      "source": [
        "### **3.3. X matrix (Combining all computed descriptors into 1 dataframe)**"
      ]
    },
    {
      "cell_type": "code",
      "metadata": {
        "id": "6VFAdZwbCg0T"
      },
      "source": [
        "df"
      ],
      "execution_count": null,
      "outputs": []
    },
    {
      "cell_type": "code",
      "metadata": {
        "id": "4HygAkqJCk6z"
      },
      "source": [
        "df_desc_AromaticProportion"
      ],
      "execution_count": null,
      "outputs": []
    },
    {
      "cell_type": "markdown",
      "metadata": {
        "id": "KJZT1Ij7Cm7W"
      },
      "source": [
        "Let's combine the 2 dataframes to produce the **X** matrix"
      ]
    },
    {
      "cell_type": "code",
      "metadata": {
        "id": "_lYBhrsaCqEq"
      },
      "source": [
        "X = pd.concat([df,df_desc_AromaticProportion], axis=1)\n",
        "X"
      ],
      "execution_count": null,
      "outputs": []
    },
    {
      "cell_type": "markdown",
      "metadata": {
        "id": "zZI9k4h6FsPF"
      },
      "source": [
        "### **3.4. Y matrix**"
      ]
    },
    {
      "cell_type": "code",
      "metadata": {
        "id": "OazcNGkMHCu1"
      },
      "source": [
        "sol.head()"
      ],
      "execution_count": null,
      "outputs": []
    },
    {
      "cell_type": "markdown",
      "metadata": {
        "id": "6m4Akv3rHG3E"
      },
      "source": [
        "Assigning the second column (index 1) to the Y matrix"
      ]
    },
    {
      "cell_type": "code",
      "metadata": {
        "id": "fcvXs7R7FrbC"
      },
      "source": [
        "Y = sol.iloc[:,1]\n",
        "Y"
      ],
      "execution_count": null,
      "outputs": []
    },
    {
      "cell_type": "markdown",
      "metadata": {
        "id": "qQYE-jCRSmCn"
      },
      "source": [
        "---"
      ]
    },
    {
      "cell_type": "markdown",
      "metadata": {
        "id": "SzrfuUZNFg_X"
      },
      "source": [
        "## **Data split**"
      ]
    },
    {
      "cell_type": "code",
      "metadata": {
        "id": "dMRn8EVjFlrT"
      },
      "source": [
        "from sklearn.model_selection import train_test_split"
      ],
      "execution_count": null,
      "outputs": []
    },
    {
      "cell_type": "code",
      "metadata": {
        "id": "aOIAljc1FmXb"
      },
      "source": [
        "X_train, X_test, Y_train, Y_test = train_test_split(X, Y, test_size=0.2)"
      ],
      "execution_count": null,
      "outputs": []
    },
    {
      "cell_type": "markdown",
      "metadata": {
        "id": "39nTAc3UFUMW"
      },
      "source": [
        "## **Linear Regression Model**"
      ]
    },
    {
      "cell_type": "code",
      "metadata": {
        "id": "K0MokzGBCimk"
      },
      "source": [
        "from sklearn import linear_model\n",
        "from sklearn.metrics import mean_squared_error, r2_score"
      ],
      "execution_count": null,
      "outputs": []
    },
    {
      "cell_type": "code",
      "metadata": {
        "id": "vkR1siPuFZ6X"
      },
      "source": [
        "model = linear_model.LinearRegression()\n",
        "model.fit(X_train, Y_train)"
      ],
      "execution_count": null,
      "outputs": []
    },
    {
      "cell_type": "markdown",
      "metadata": {
        "id": "aG4DMzc5Rks9"
      },
      "source": [
        "### **Predicts the X_train**"
      ]
    },
    {
      "cell_type": "code",
      "metadata": {
        "id": "tZr9CBGvRp1F"
      },
      "source": [
        "Y_pred_train = model.predict(X_train)"
      ],
      "execution_count": null,
      "outputs": []
    },
    {
      "cell_type": "code",
      "metadata": {
        "id": "0x3saPCyRtJP"
      },
      "source": [
        "print('Coefficients:', model.coef_)\n",
        "print('Intercept:', model.intercept_)\n",
        "print('Mean squared error (MSE): %.2f'\n",
        "      % mean_squared_error(Y_train, Y_pred_train))\n",
        "print('Coefficient of determination (R^2): %.2f'\n",
        "      % r2_score(Y_train, Y_pred_train))"
      ],
      "execution_count": null,
      "outputs": []
    },
    {
      "cell_type": "markdown",
      "metadata": {
        "id": "M6evZTPNRecd"
      },
      "source": [
        "### **Predicts the X_test**"
      ]
    },
    {
      "cell_type": "code",
      "metadata": {
        "id": "I_eFbrlaHhPU"
      },
      "source": [
        "Y_pred_test = model.predict(X_test)"
      ],
      "execution_count": null,
      "outputs": []
    },
    {
      "cell_type": "code",
      "metadata": {
        "id": "TQnDfyl5HkUr"
      },
      "source": [
        "print('Coefficients:', model.coef_)\n",
        "print('Intercept:', model.intercept_)\n",
        "print('Mean squared error (MSE): %.2f'\n",
        "      % mean_squared_error(Y_test, Y_pred_test))\n",
        "print('Coefficient of determination (R^2): %.2f'\n",
        "      % r2_score(Y_test, Y_pred_test))"
      ],
      "execution_count": null,
      "outputs": []
    },
    {
      "cell_type": "markdown",
      "metadata": {
        "id": "nERFfdQBRFF5"
      },
      "source": [
        "### **Linear Regression Equation**"
      ]
    },
    {
      "cell_type": "markdown",
      "metadata": {
        "id": "j3xLiGWHFiY1"
      },
      "source": [
        "The work of Delaney$^1$ provided the following linear regression equation:\n",
        "\n",
        "> LogS = 0.16 -  0.63 cLogP - 0.0062 MW + 0.066 RB - 0.74 AP\n",
        "\n",
        "The reproduction by Pat Walters$^2$ provided the following:\n",
        "\n",
        "> LogS = 0.26 -  0.74 LogP - 0.0066 MW + 0.0034 RB - 0.42 AP\n",
        "\n",
        "This notebook's reproduction gave the following equation:\n",
        "\n",
        "* Based on the Train set\n",
        "> LogS = 0.30 -0.75 LogP - .0066 MW -0.0041 RB - 0.36 AP\n",
        "\n",
        "* Based on the Full dataset\n",
        "> LogS =  0.26 -0.74 LogP - 0.0066 + MW 0.0032 RB - 0.42 AP"
      ]
    },
    {
      "cell_type": "markdown",
      "metadata": {
        "id": "FaWyYnMbWtYu"
      },
      "source": [
        "#### **Our linear regression equation**"
      ]
    },
    {
      "cell_type": "code",
      "metadata": {
        "id": "0TH6J9evHIIE"
      },
      "source": [
        "print('LogS = %.2f %.2f LogP %.4f MW %.4f RB %.2f AP' % (model.intercept_, model.coef_[0], model.coef_[1], model.coef_[2], model.coef_[3] ) )"
      ],
      "execution_count": null,
      "outputs": []
    },
    {
      "cell_type": "markdown",
      "metadata": {
        "id": "VcJyUzsLSz2A"
      },
      "source": [
        "The same equation can also be produced with the following code (which breaks up the previous one-line code into several comprehensible lines."
      ]
    },
    {
      "cell_type": "code",
      "metadata": {
        "id": "byUbJ9QqK5gA"
      },
      "source": [
        "yintercept = '%.2f' % model.intercept_\n",
        "LogP = '%.2f LogP' % model.coef_[0]\n",
        "MW = '%.4f MW' % model.coef_[1]\n",
        "RB = '%.4f RB' % model.coef_[2]\n",
        "AP = '%.2f AP' % model.coef_[3]"
      ],
      "execution_count": null,
      "outputs": []
    },
    {
      "cell_type": "code",
      "metadata": {
        "id": "QY-9rh--S-6g"
      },
      "source": [
        "print('LogS = ' + \n",
        "      ' ' + \n",
        "      yintercept + \n",
        "      ' ' + \n",
        "      LogP + \n",
        "      ' ' + \n",
        "      MW + \n",
        "      ' ' + \n",
        "      RB + \n",
        "      ' ' + \n",
        "      AP)"
      ],
      "execution_count": null,
      "outputs": []
    },
    {
      "cell_type": "markdown",
      "metadata": {
        "id": "R3lRkSOJRm1q"
      },
      "source": [
        "#### **Use entire dataset for model training (For Comparison)**"
      ]
    },
    {
      "cell_type": "code",
      "metadata": {
        "id": "QUye6SsIRl9T"
      },
      "source": [
        "full = linear_model.LinearRegression()\n",
        "full.fit(X, Y)"
      ],
      "execution_count": null,
      "outputs": []
    },
    {
      "cell_type": "code",
      "metadata": {
        "id": "6tMI8n0oR1b5"
      },
      "source": [
        "full_pred = model.predict(X)"
      ],
      "execution_count": null,
      "outputs": []
    },
    {
      "cell_type": "code",
      "metadata": {
        "id": "7ZVD8Fg1R6zt"
      },
      "source": [
        "print('Coefficients:', full.coef_)\n",
        "print('Intercept:', full.intercept_)\n",
        "print('Mean squared error (MSE): %.2f'\n",
        "      % mean_squared_error(Y, full_pred))\n",
        "print('Coefficient of determination (R^2): %.2f'\n",
        "      % r2_score(Y, full_pred))"
      ],
      "execution_count": null,
      "outputs": []
    },
    {
      "cell_type": "code",
      "metadata": {
        "id": "AFYYzcc1VqIo"
      },
      "source": [
        "full_yintercept = '%.2f' % full.intercept_\n",
        "full_LogP = '%.2f LogP' % full.coef_[0]\n",
        "full_MW = '%.4f MW' % full.coef_[1]\n",
        "full_RB = '+ %.4f RB' % full.coef_[2]\n",
        "full_AP = '%.2f AP' % full.coef_[3]"
      ],
      "execution_count": null,
      "outputs": []
    },
    {
      "cell_type": "code",
      "metadata": {
        "id": "zwU4QJhhVsKb"
      },
      "source": [
        "print('LogS = ' + \n",
        "      ' ' + \n",
        "      full_yintercept + \n",
        "      ' ' + \n",
        "      full_LogP + \n",
        "      ' ' + \n",
        "      full_MW + \n",
        "      ' ' + \n",
        "      full_RB + \n",
        "      ' ' + \n",
        "      full_AP)"
      ],
      "execution_count": null,
      "outputs": []
    },
    {
      "cell_type": "markdown",
      "metadata": {
        "id": "qp-hjUv4IWe-"
      },
      "source": [
        "## **Scatter plot of experimental vs. predicted LogS**"
      ]
    },
    {
      "cell_type": "code",
      "metadata": {
        "id": "hZDdRiPWIZbX"
      },
      "source": [
        "import matplotlib.pyplot as plt"
      ],
      "execution_count": null,
      "outputs": []
    },
    {
      "cell_type": "markdown",
      "metadata": {
        "id": "Q6bP41fKEY9O"
      },
      "source": [
        "### **Quick check of the variable dimensions of Train and Test sets**"
      ]
    },
    {
      "cell_type": "code",
      "metadata": {
        "id": "LA5dH5oiEUnP"
      },
      "source": [
        "Y_train.shape, Y_pred_train.shape"
      ],
      "execution_count": null,
      "outputs": []
    },
    {
      "cell_type": "code",
      "metadata": {
        "id": "HIu7YbbFP-7o"
      },
      "source": [
        "Y_test.shape, Y_pred_test.shape"
      ],
      "execution_count": null,
      "outputs": []
    },
    {
      "cell_type": "markdown",
      "metadata": {
        "id": "OHqv3TlYa5qF"
      },
      "source": [
        "### **Vertical plot**"
      ]
    },
    {
      "cell_type": "code",
      "metadata": {
        "id": "shQPfrHIOmRD"
      },
      "source": [
        "plt.figure(figsize=(5,11))\n",
        "\n",
        "# 2 row, 1 column, plot 1\n",
        "plt.subplot(2, 1, 1)\n",
        "plt.scatter(x=Y_train, y=Y_pred_train, c=\"#7CAE00\", alpha=0.3)\n",
        "\n",
        "# Add trendline\n",
        "# https://stackoverflow.com/questions/26447191/how-to-add-trendline-in-python-matplotlib-dot-scatter-graphs\n",
        "z = np.polyfit(Y_train, Y_pred_train, 1)\n",
        "p = np.poly1d(z)\n",
        "plt.plot(Y_test,p(Y_test),\"#F8766D\")\n",
        "\n",
        "plt.ylabel('Predicted LogS')\n",
        "\n",
        "\n",
        "# 2 row, 1 column, plot 2\n",
        "plt.subplot(2, 1, 2)\n",
        "plt.scatter(x=Y_test, y=Y_pred_test, c=\"#619CFF\", alpha=0.3)\n",
        "\n",
        "z = np.polyfit(Y_test, Y_pred_test, 1)\n",
        "p = np.poly1d(z)\n",
        "plt.plot(Y_test,p(Y_test),\"#F8766D\")\n",
        "\n",
        "plt.ylabel('Predicted LogS')\n",
        "plt.xlabel('Experimental LogS')\n",
        "\n",
        "plt.savefig('plot_vertical_logS.png')\n",
        "plt.savefig('plot_vertical_logS.pdf')\n",
        "plt.show()"
      ],
      "execution_count": null,
      "outputs": []
    },
    {
      "cell_type": "markdown",
      "metadata": {
        "id": "PswCQ7Yra_CW"
      },
      "source": [
        "### **Horizontal plot**"
      ]
    },
    {
      "cell_type": "code",
      "metadata": {
        "id": "xG7NWEscT8QO"
      },
      "source": [
        "plt.figure(figsize=(11,5))\n",
        "\n",
        "# 1 row, 2 column, plot 1\n",
        "plt.subplot(1, 2, 1)\n",
        "plt.scatter(x=Y_train, y=Y_pred_train, c=\"#7CAE00\", alpha=0.3)\n",
        "\n",
        "z = np.polyfit(Y_train, Y_pred_train, 1)\n",
        "p = np.poly1d(z)\n",
        "plt.plot(Y_test,p(Y_test),\"#F8766D\")\n",
        "\n",
        "plt.ylabel('Predicted LogS')\n",
        "plt.xlabel('Experimental LogS')\n",
        "\n",
        "# 1 row, 2 column, plot 2\n",
        "plt.subplot(1, 2, 2)\n",
        "plt.scatter(x=Y_test, y=Y_pred_test, c=\"#619CFF\", alpha=0.3)\n",
        "\n",
        "z = np.polyfit(Y_test, Y_pred_test, 1)\n",
        "p = np.poly1d(z)\n",
        "plt.plot(Y_test,p(Y_test),\"#F8766D\")\n",
        "\n",
        "plt.xlabel('Experimental LogS')\n",
        "\n",
        "plt.savefig('plot_horizontal_logS.png')\n",
        "plt.savefig('plot_horizontal_logS.pdf')\n",
        "plt.show()"
      ],
      "execution_count": null,
      "outputs": []
    },
    {
      "cell_type": "code",
      "metadata": {
        "id": "WXn0vFThYYFT"
      },
      "source": [
        "! ls -l"
      ],
      "execution_count": null,
      "outputs": []
    },
    {
      "cell_type": "markdown",
      "metadata": {
        "id": "ARiv3f1iC565"
      },
      "source": [
        "---"
      ]
    },
    {
      "cell_type": "markdown",
      "metadata": {
        "id": "jwM1QHeLbxJl"
      },
      "source": [
        "## **Reference**\n",
        "\n",
        "1. John S. Delaney. [ESOL:  Estimating Aqueous Solubility Directly from Molecular Structure](https://pubs.acs.org/doi/10.1021/ci034243x). ***J. Chem. Inf. Comput. Sci.*** 2004, 44, 3, 1000-1005.\n",
        "\n",
        "2. Pat Walters. [Predicting Aqueous Solubility - It's Harder Than It Looks](http://practicalcheminformatics.blogspot.com/2018/09/predicting-aqueous-solubility-its.html). ***Practical Cheminformatics Blog***\n",
        "\n",
        "3. Bharath Ramsundar, Peter Eastman, Patrick Walters, and Vijay Pande. [Deep Learning for the Life Sciences: Applying Deep Learning to Genomics, Microscopy, Drug Discovery, and More](https://learning.oreilly.com/library/view/deep-learning-for/9781492039822/), O'Reilly, 2019.\n",
        "\n",
        "4. [Supplementary file](https://pubs.acs.org/doi/10.1021/ci034243x) from Delaney's ESOL:  Estimating Aqueous Solubility Directly from Molecular Structure."
      ]
    }
  ]
}